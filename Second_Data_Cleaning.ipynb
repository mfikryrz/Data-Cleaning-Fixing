{
 "cells": [
  {
   "cell_type": "markdown",
   "id": "403e41cc",
   "metadata": {},
   "source": [
    "# Input the course price based on the number of students"
   ]
  },
  {
   "cell_type": "code",
   "execution_count": null,
   "id": "635c15c0",
   "metadata": {},
   "outputs": [],
   "source": [
    "import pandas as pd\n",
    "\n",
    "df = pd.read_excel('Update_Data_Customer_Final_File.xlsx')\n",
    "\n",
    "def fillPrice(x,y):\n",
    "    if x == 1:\n",
    "        y = 175000\n",
    "    if x == 2:\n",
    "        y = 87500\n",
    "    if x == 3:\n",
    "        y = 58300\n",
    "    if (x == 4 or x == 5) :\n",
    "        y = 50000\n",
    "    if x == 6:\n",
    "        y = 48333\n",
    "    if x == 7:\n",
    "        y = 47142.86\n",
    "    if x == 8:\n",
    "        y = 46250\n",
    "    if x == 9:\n",
    "        y = 45555.58\n",
    "    if x == 10:\n",
    "        y = 45000\n",
    "    return y\n",
    "mata_kuliah = list(df['Mata kuliah apa yang anda ikuti?'].unique())\n",
    "\n",
    "def kolomKolomnya(mata_kuliah):\n",
    "    semua_kolom = df[['Timestamp','Mata kuliah apa yang anda ikuti?','Nama','Email','Price']][\n",
    "        df['Mata kuliah apa yang anda ikuti?'] == mata_kuliah]\n",
    "    daftar_tanggal = list(semua_kolom['Timestamp'].unique())\n",
    "    for i in range(len(daftar_tanggal)):\n",
    "        jumlah_orang = len(semua_kolom['Price'][semua_kolom['Timestamp'] == daftar_tanggal[i]])\n",
    "        input_data = semua_kolom['Price'][semua_kolom['Timestamp'] == daftar_tanggal[i]]\n",
    "        semua_kolom['Price'][semua_kolom['Timestamp']==daftar_tanggal[i]] = fillPrice(jumlah_orang,input_data)\n",
    "    return semua_kolom\n",
    "\n",
    "Perpindahan_Massa = kolomKolomnya('Perpindahan Massa')\n",
    "Perancangan_Pabrik = kolomKolomnya('Perancangan Pabrik')\n",
    "Simulasi_Proses_Kimia = kolomKolomnya('Simulasi Proses Kimia')\n",
    "Peristiwa_Perpindahan = kolomKolomnya('Peristiwa Perpindahan')\n",
    "\n",
    "df_final = pd.concat([Perancangan_Pabrik,Simulasi_Proses_Kimia,Perpindahan_Massa,Peristiwa_Perpindahan]).sort_values('Timestamp', ignore_index=True)"
   ]
  },
  {
   "cell_type": "markdown",
   "id": "bc63e75b",
   "metadata": {},
   "source": [
    "### Fix the columns sequence and export"
   ]
  },
  {
   "cell_type": "code",
   "execution_count": null,
   "id": "cef4764d",
   "metadata": {},
   "outputs": [],
   "source": [
    "df[['Timestamp','Mata kuliah apa yang anda ikuti?','Nama','Email','Price']] = df_final\n",
    "df_final_kolom = df[['Timestamp','Price','Mata kuliah apa yang anda ikuti?','Nama','Email','Seberapa bermanfaat sesi yang anda ikuti?','Apakah anda tertarik untuk mengikuti sesi lanjutan?','Hal apa yang anda sukai dari sesi pembelajaran?','Tolong sebutkan setidaknya 2 hal yang dapat diperbaiki dari sesi pembelajaran, baik dari aspek penyampaian maupun kualitas materi?','Apa yang bisa kami lakukan lebih baik untuk sesi-sesi selanjutnya?','Seberapa mungkin anda merekomendasikan Torche ke teman anda?','Tutor']]"
   ]
  },
  {
   "cell_type": "code",
   "execution_count": null,
   "id": "587424f5",
   "metadata": {},
   "outputs": [],
   "source": [
    "writer = pd.ExcelWriter('Update_Data_Customer_Email_&_Price.xlsx')\n",
    "df_final_kolom.to_excel(writer)\n",
    "writer.save()\n",
    "print('DataFrame is written successfully to Excel File.')"
   ]
  }
 ],
 "metadata": {
  "kernelspec": {
   "display_name": "Python 3 (ipykernel)",
   "language": "python",
   "name": "python3"
  },
  "language_info": {
   "codemirror_mode": {
    "name": "ipython",
    "version": 3
   },
   "file_extension": ".py",
   "mimetype": "text/x-python",
   "name": "python",
   "nbconvert_exporter": "python",
   "pygments_lexer": "ipython3",
   "version": "3.9.7"
  }
 },
 "nbformat": 4,
 "nbformat_minor": 5
}
