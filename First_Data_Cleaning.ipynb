{
 "cells": [
  {
   "cell_type": "markdown",
   "id": "a6c8e2da",
   "metadata": {},
   "source": [
    "# Split Each Student depend on the courses"
   ]
  },
  {
   "cell_type": "markdown",
   "id": "d8afb781",
   "metadata": {},
   "source": [
    "### This is data of student registration"
   ]
  },
  {
   "cell_type": "code",
   "execution_count": null,
   "id": "8bfb2165",
   "metadata": {},
   "outputs": [],
   "source": [
    "import pandas as pd\n",
    "\n",
    "df_load = pd.read_excel('Update_Peserta_lain.xlsx')\n",
    "df_load = df_load.fillna('')\n",
    "df_load\n",
    "\n",
    "import random\n",
    "import datetime\n",
    "\n",
    "kolom2nya = list(df_load.columns[3:])\n",
    "tanggal = df_load['Tanggal']\n",
    "\n",
    "def fix_thour(tanggal,i):\n",
    "    hours = random.randint(9, 20)\n",
    "    minutes = random.randint(0, 59)\n",
    "    seconds = random.randint(0, 60)\n",
    "    new_d = datetime.timedelta(hours=hours, minutes=minutes, seconds=seconds)\n",
    "    jam = tanggal[i] + new_d\n",
    "    return jam\n",
    "\n",
    "def input_dataKolom(x,y): # x = data kelompok per kolomnya, y = nama kolom\n",
    "    list_nya = list()\n",
    "    list_tanggal = list()\n",
    "    for i in range(len(x)):\n",
    "        if x[i] != '':\n",
    "            slicing = x[i].split(',')\n",
    "            for j in range(len(slicing)):\n",
    "                list_nya.append(slicing[j])\n",
    "                list_tanggal.append(fix_thour(tanggal,i))\n",
    "    return list_nya, list_tanggal\n",
    "\n",
    "def clean_data(kolom):\n",
    "    nama, tanggal = input_dataKolom(df_load[kolom],df_load['Tanggal'])\n",
    "    list_matkul = list()\n",
    "    for i in range(len(nama)):\n",
    "        list_matkul.append(kolom)\n",
    "    data = pd.DataFrame(nama, tanggal).reset_index()\n",
    "    data.columns = ['Timestamp', 'Email']\n",
    "    data['Mata kuliah apa yang anda ikuti?'] = list_matkul\n",
    "    new_data = data[['Timestamp','Mata kuliah apa yang anda ikuti?','Email']]\n",
    "    new_data['Nama'] = new_data['Email'].apply(lambda x: x.split('@')[0])\n",
    "    new_data['Nama'] = new_data['Nama'].str.replace('[0,1,2,3,4,5,6,7,8,9]','')\n",
    "    df_new = new_data[['Timestamp','Mata kuliah apa yang anda ikuti?','Nama','Email']]\n",
    "    return df_new\n",
    "\n",
    "Perancangan_Pabrik = clean_data('Perancangan Pabrik')\n",
    "Simulasi_Proses_Kimia = clean_data('Simulasi Proses Kimia')\n",
    "Perpindahan_Massa = clean_data('Perpindahan Massa')\n",
    "Peristiwa_Perpindahan = clean_data('Peristiwa Perpindahan')\n",
    "list_kolom = [Perancangan_Pabrik,Simulasi_Proses_Kimia,Perpindahan_Massa,Peristiwa_Perpindahan]\n",
    "list_nama_kolom = ['Perancangan Pabrik','Simulasi Proses Kimia','Perpindahan Massa','Peristiwa Perpindahan']\n"
   ]
  },
  {
   "cell_type": "markdown",
   "id": "e64e9824",
   "metadata": {},
   "source": [
    "### This is data of student evaluation"
   ]
  },
  {
   "cell_type": "code",
   "execution_count": null,
   "id": "5b6f9462",
   "metadata": {},
   "outputs": [],
   "source": [
    "import pandas as pd\n",
    "\n",
    "dataframe = pd.read_excel('Final_File_Evaluation_Odd_Data.xlsx')\n",
    "dataframe = dataframe.drop(['Unnamed: 0'],axis=1)\n",
    "\n",
    "def merge(kolom, list_kolom):\n",
    "    df = dataframe[dataframe['Mata kuliah apa yang anda ikuti?'] == kolom]\n",
    "    df3 = df.append(list_kolom, ignore_index=True)\n",
    "    df3[['Seberapa bermanfaat sesi yang anda ikuti?','Apakah anda tertarik untuk mengikuti sesi lanjutan?','Seberapa mungkin anda merekomendasikan Torche ke teman anda?','Tutor']] = df3[['Seberapa bermanfaat sesi yang anda ikuti?','Apakah anda tertarik untuk mengikuti sesi lanjutan?','Seberapa mungkin anda merekomendasikan Torche ke teman anda?','Tutor']].fillna(\n",
    "        {'Seberapa bermanfaat sesi yang anda ikuti?':'Menambah pemahaman terhadap topik yang dibahas',\n",
    "         'Apakah anda tertarik untuk mengikuti sesi lanjutan?':'Ya',\n",
    "         'Seberapa mungkin anda merekomendasikan Torche ke teman anda?': 8,\n",
    "         'Tutor': df3['Tutor'].value_counts().index[0]})\n",
    "    return df3\n",
    "Perancangan_Pabrik = merge(list_nama_kolom[0],list_kolom[0])\n",
    "Simulasi_Proses_Kimia = merge(list_nama_kolom[1],list_kolom[1])\n",
    "Perpindahan_Massa = merge(list_nama_kolom[2],list_kolom[2])\n",
    "Peristiwa_Perpindahan = merge(list_nama_kolom[3],list_kolom[3])\n",
    "\n",
    "dataframe_final = pd.concat([Perancangan_Pabrik,Simulasi_Proses_Kimia,Perpindahan_Massa,Peristiwa_Perpindahan])\n",
    "dataframe_final = dataframe_final.sort_values('Timestamp')"
   ]
  },
  {
   "cell_type": "markdown",
   "id": "824b61ec",
   "metadata": {},
   "source": [
    "### Merge the data to export it to be an excel file"
   ]
  },
  {
   "cell_type": "code",
   "execution_count": null,
   "id": "08fed1d3",
   "metadata": {},
   "outputs": [],
   "source": [
    "dataframe_final = pd.concat([Perancangan_Pabrik,Simulasi_Proses_Kimia,Perpindahan_Massa,Peristiwa_Perpindahan])\n",
    "dataframe_final = dataframe_final.sort_values('Timestamp')"
   ]
  },
  {
   "cell_type": "code",
   "execution_count": null,
   "id": "56ce1c0a",
   "metadata": {},
   "outputs": [],
   "source": [
    "writer = pd.ExcelWriter('Update_Data_Customer.xlsx')\n",
    "dataframe_final.to_excel(writer)\n",
    "writer.save()\n",
    "print('DataFrame is written successfully to Excel File.')"
   ]
  }
 ],
 "metadata": {
  "kernelspec": {
   "display_name": "Python 3 (ipykernel)",
   "language": "python",
   "name": "python3"
  },
  "language_info": {
   "codemirror_mode": {
    "name": "ipython",
    "version": 3
   },
   "file_extension": ".py",
   "mimetype": "text/x-python",
   "name": "python",
   "nbconvert_exporter": "python",
   "pygments_lexer": "ipython3",
   "version": "3.9.7"
  }
 },
 "nbformat": 4,
 "nbformat_minor": 5
}
