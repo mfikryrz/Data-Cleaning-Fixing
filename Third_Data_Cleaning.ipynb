{
 "cells": [
  {
   "cell_type": "markdown",
   "id": "166dabb5",
   "metadata": {},
   "source": [
    "# Take the username of email and convert it as name"
   ]
  },
  {
   "cell_type": "code",
   "execution_count": null,
   "id": "22901523",
   "metadata": {},
   "outputs": [],
   "source": [
    "import pandas as pd\n",
    "import numpy as np\n",
    "\n",
    "data_frame = pd.read_excel('New_folder/Update_Data_Customer_Email_&_Price_2.xlsx')\n",
    "data_frame_nama_email = data_frame[['Nama','Email']]\n",
    "print(data_frame_nama_email.isnull().sum())\n",
    "data_frame_nama_email = data_frame_nama_email.fillna('')\n",
    "data_frame_nama_email['Email'] = data_frame_nama_email['Email'].apply(lambda x: x.split('@')[0])\n",
    "data_frame_nama_email['Email'] = data_frame_nama_email['Email'].str.replace('[0,1,2,3,4,5,6,7,8,9]','')\n",
    "data_frame_nama_email['Email']"
   ]
  },
  {
   "cell_type": "code",
   "execution_count": null,
   "id": "5726c4f4",
   "metadata": {},
   "outputs": [],
   "source": [
    "writer = pd.ExcelWriter('convert_email_to_name.xlsx')\n",
    "data_frame.to_excel(writer)\n",
    "writer.save()\n",
    "print('DataFrame is written successfully to Excel File.')"
   ]
  }
 ],
 "metadata": {
  "kernelspec": {
   "display_name": "Python 3 (ipykernel)",
   "language": "python",
   "name": "python3"
  },
  "language_info": {
   "codemirror_mode": {
    "name": "ipython",
    "version": 3
   },
   "file_extension": ".py",
   "mimetype": "text/x-python",
   "name": "python",
   "nbconvert_exporter": "python",
   "pygments_lexer": "ipython3",
   "version": "3.9.7"
  }
 },
 "nbformat": 4,
 "nbformat_minor": 5
}
